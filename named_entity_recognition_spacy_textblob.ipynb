{
 "cells": [
  {
   "cell_type": "code",
   "execution_count": 2,
   "metadata": {},
   "outputs": [
    {
     "name": "stderr",
     "output_type": "stream",
     "text": [
      "/var/folders/qp/_cz8x4hj1730r0wn6pht12dr0000gn/T/ipykernel_59509/2734776295.py:2: DeprecationWarning: \n",
      "Pyarrow will become a required dependency of pandas in the next major release of pandas (pandas 3.0),\n",
      "(to allow more performant data types, such as the Arrow string type, and better interoperability with other libraries)\n",
      "but was not found to be installed on your system.\n",
      "If this would cause problems for you,\n",
      "please provide us feedback at https://github.com/pandas-dev/pandas/issues/54466\n",
      "        \n",
      "  import pandas as pd\n"
     ]
    }
   ],
   "source": [
    "import spacy\n",
    "import pandas as pd\n",
    "from textblob import TextBlob"
   ]
  },
  {
   "cell_type": "code",
   "execution_count": 3,
   "metadata": {},
   "outputs": [
    {
     "name": "stdout",
     "output_type": "stream",
     "text": [
      "0       calgary, alberta — some bruins rely on plant-b...\n",
      "1       washington — a senior treasury department empl...\n",
      "2       edwidge danticat spoke at the luncheon to bene...\n",
      "3       istanbul — his killers were waiting when jamal...\n",
      "4       the new england journal of medicine on wednesd...\n",
      "                              ...                        \n",
      "4996     the three previous undefeated ephmen teams we...\n",
      "4997     mr. stinnett's stories appeared in atlantic m...\n",
      "4998     atlanta is on a roll, tied at 7-2 with san fr...\n",
      "4999                                              No lede\n",
      "5000                                              No lede\n",
      "Name: lede, Length: 5001, dtype: object\n"
     ]
    }
   ],
   "source": [
    "# Load spaCy's English language model\n",
    "nlp = spacy.load(\"en_core_web_sm\") \n",
    "\n",
    "# Load dataset\n",
    "data = pd.read_csv('data/sample_5000rows.csv') \n",
    "ledes = data['lede']  \n",
    "data['lede'].fillna(\"No lede\", inplace=True)\n",
    "print(ledes)"
   ]
  },
  {
   "cell_type": "code",
   "execution_count": 4,
   "metadata": {},
   "outputs": [],
   "source": [
    "# Function to extract entities\n",
    "def extract_entities(text):\n",
    "    doc = nlp(text)\n",
    "    entities = [(ent.text, ent.label_) for ent in doc.ents]\n",
    "    return entities\n"
   ]
  },
  {
   "cell_type": "code",
   "execution_count": 5,
   "metadata": {},
   "outputs": [],
   "source": [
    "# Function to extract entities context\n",
    "def extract_entities_with_context(text, window=5):\n",
    "    doc = nlp(text)\n",
    "    entity_context = []\n",
    "    for ent in doc.ents:\n",
    "        start = max(0, ent.start - window)\n",
    "        end = min(len(doc), ent.end + window)\n",
    "        context = doc[start:end].text\n",
    "        entity_context.append((ent.text, ent.label_, context))\n",
    "    return entity_context\n"
   ]
  },
  {
   "cell_type": "code",
   "execution_count": 18,
   "metadata": {},
   "outputs": [],
   "source": [
    "# data['entities'] = ledes.apply(extract_entities)\n",
    "data['entity_context'] = ledes.apply(extract_entities_with_context)"
   ]
  },
  {
   "cell_type": "code",
   "execution_count": 7,
   "metadata": {},
   "outputs": [],
   "source": [
    "def get_sentiment(text):\n",
    "    return TextBlob(text).sentiment.polarity"
   ]
  },
  {
   "cell_type": "code",
   "execution_count": 8,
   "metadata": {},
   "outputs": [],
   "source": [
    "# Function to analyze sentiment around each entity\n",
    "def analyze_entity_sentiments(entity_contexts):\n",
    "    sentiments = []\n",
    "    for text, label, context in entity_contexts:\n",
    "        sentiment = get_sentiment(context)\n",
    "        sentiments.append((text, label, sentiment))\n",
    "    return sentiments"
   ]
  },
  {
   "cell_type": "code",
   "execution_count": 9,
   "metadata": {},
   "outputs": [],
   "source": [
    "# just store sentiment score\n",
    "def analyze_entity_sentiments_score(entity_contexts):\n",
    "    sentiments = []\n",
    "    for text, label, context in entity_contexts:\n",
    "        sentiment = get_sentiment(context)\n",
    "        sentiments.append((sentiment))\n",
    "    return sentiments"
   ]
  },
  {
   "cell_type": "code",
   "execution_count": 14,
   "metadata": {},
   "outputs": [],
   "source": [
    "# Calculate sentiment score\n",
    "data['entity_sentiments_scoreonly'] = data['entity_context'].apply(analyze_entity_sentiments_score)\n",
    "data['most_negative_score'] = data['entity_sentiments_scoreonly'].apply(lambda x: min(x) if x else float('inf'))\n",
    "data['most_positive_score'] = data['entity_sentiments_scoreonly'].apply(lambda x: max(x) if x else float('inf'))\n",
    "data['average_score'] = data['entity_sentiments_scoreonly'].apply(lambda x: sum(x) / len(x) if x else float('inf'))"
   ]
  },
  {
   "cell_type": "code",
   "execution_count": 15,
   "metadata": {},
   "outputs": [],
   "source": [
    "def categorize_sentiment(score):\n",
    "    if score <= -0.1:\n",
    "        return 'Negative'\n",
    "    elif score >= 0.1:\n",
    "        return 'Positive'\n",
    "    else:\n",
    "        return 'Neutral'"
   ]
  },
  {
   "cell_type": "code",
   "execution_count": 16,
   "metadata": {},
   "outputs": [],
   "source": [
    "data['most_negative_sentiment'] = data['most_negative_score'].apply(categorize_sentiment)\n",
    "data['most_positive_sentiment'] = data['most_positive_score'].apply(categorize_sentiment)\n",
    "data['average_sentiment'] = data['average_score'].apply(categorize_sentiment)"
   ]
  },
  {
   "cell_type": "code",
   "execution_count": 19,
   "metadata": {},
   "outputs": [],
   "source": [
    "# Step 4: Apply the function to each lede\n",
    "# print(data.head())\n",
    "data.to_csv('data/sample_5000rows_spacy_textblob.csv') \n"
   ]
  }
 ],
 "metadata": {
  "kernelspec": {
   "display_name": "naacp_ml",
   "language": "python",
   "name": "python3"
  },
  "language_info": {
   "codemirror_mode": {
    "name": "ipython",
    "version": 3
   },
   "file_extension": ".py",
   "mimetype": "text/x-python",
   "name": "python",
   "nbconvert_exporter": "python",
   "pygments_lexer": "ipython3",
   "version": "3.9.18"
  }
 },
 "nbformat": 4,
 "nbformat_minor": 2
}
